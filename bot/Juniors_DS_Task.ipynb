{
  "cells": [
    {
      "cell_type": "code",
      "execution_count": 10,
      "metadata": {
        "id": "B7nwb9xCzOLV"
      },
      "outputs": [],
      "source": [
        "import matplotlib.pyplot as plt\n",
        "import pandas as pd\n",
        "from azure.cosmos import CosmosClient\n",
        "import json\n",
        "from prophet import Prophet\n",
        "from prophet.serialize import model_to_json, model_from_json\n",
        "import pickle"
      ]
    },
    {
      "cell_type": "code",
      "execution_count": 11,
      "metadata": {
        "colab": {
          "base_uri": "https://localhost:8080/"
        },
        "id": "_UzEwUZWydml",
        "outputId": "24ce1e10-c941-4bac-c03f-d98c86933062"
      },
      "outputs": [
        {
          "name": "stdout",
          "output_type": "stream",
          "text": [
            "Requirement already satisfied: pandas in c:\\users\\administrator\\appdata\\local\\programs\\python\\python311\\lib\\site-packages (2.0.3)\n",
            "Requirement already satisfied: numpy in c:\\users\\administrator\\appdata\\local\\programs\\python\\python311\\lib\\site-packages (1.25.2)\n",
            "Requirement already satisfied: matplotlib in c:\\users\\administrator\\appdata\\local\\programs\\python\\python311\\lib\\site-packages (3.7.2)\n",
            "Requirement already satisfied: seaborn in c:\\users\\administrator\\appdata\\local\\programs\\python\\python311\\lib\\site-packages (0.12.2)\n",
            "Requirement already satisfied: scikit-learn in c:\\users\\administrator\\appdata\\local\\programs\\python\\python311\\lib\\site-packages (1.3.0)\n",
            "Requirement already satisfied: nltk in c:\\users\\administrator\\appdata\\local\\programs\\python\\python311\\lib\\site-packages (3.8.1)\n",
            "Requirement already satisfied: prophet in c:\\users\\administrator\\appdata\\local\\programs\\python\\python311\\lib\\site-packages (1.1.4)\n",
            "Requirement already satisfied: azure-cosmos in c:\\users\\administrator\\appdata\\local\\programs\\python\\python311\\lib\\site-packages (4.4.0)\n",
            "Requirement already satisfied: python-dateutil>=2.8.2 in c:\\users\\administrator\\appdata\\local\\programs\\python\\python311\\lib\\site-packages (from pandas) (2.8.2)\n",
            "Requirement already satisfied: pytz>=2020.1 in c:\\users\\administrator\\appdata\\local\\programs\\python\\python311\\lib\\site-packages (from pandas) (2023.3)\n",
            "Requirement already satisfied: tzdata>=2022.1 in c:\\users\\administrator\\appdata\\local\\programs\\python\\python311\\lib\\site-packages (from pandas) (2023.3)\n",
            "Requirement already satisfied: contourpy>=1.0.1 in c:\\users\\administrator\\appdata\\local\\programs\\python\\python311\\lib\\site-packages (from matplotlib) (1.1.0)\n",
            "Requirement already satisfied: cycler>=0.10 in c:\\users\\administrator\\appdata\\local\\programs\\python\\python311\\lib\\site-packages (from matplotlib) (0.11.0)\n",
            "Requirement already satisfied: fonttools>=4.22.0 in c:\\users\\administrator\\appdata\\local\\programs\\python\\python311\\lib\\site-packages (from matplotlib) (4.41.1)\n",
            "Requirement already satisfied: kiwisolver>=1.0.1 in c:\\users\\administrator\\appdata\\local\\programs\\python\\python311\\lib\\site-packages (from matplotlib) (1.4.4)\n",
            "Requirement already satisfied: packaging>=20.0 in c:\\users\\administrator\\appdata\\roaming\\python\\python311\\site-packages (from matplotlib) (23.1)\n",
            "Requirement already satisfied: pillow>=6.2.0 in c:\\users\\administrator\\appdata\\local\\programs\\python\\python311\\lib\\site-packages (from matplotlib) (10.0.0)\n",
            "Requirement already satisfied: pyparsing<3.1,>=2.3.1 in c:\\users\\administrator\\appdata\\local\\programs\\python\\python311\\lib\\site-packages (from matplotlib) (3.0.9)\n",
            "Requirement already satisfied: scipy>=1.5.0 in c:\\users\\administrator\\appdata\\local\\programs\\python\\python311\\lib\\site-packages (from scikit-learn) (1.11.1)\n",
            "Requirement already satisfied: joblib>=1.1.1 in c:\\users\\administrator\\appdata\\local\\programs\\python\\python311\\lib\\site-packages (from scikit-learn) (1.3.1)\n",
            "Requirement already satisfied: threadpoolctl>=2.0.0 in c:\\users\\administrator\\appdata\\local\\programs\\python\\python311\\lib\\site-packages (from scikit-learn) (3.2.0)\n",
            "Requirement already satisfied: click in c:\\users\\administrator\\appdata\\local\\programs\\python\\python311\\lib\\site-packages (from nltk) (8.1.6)\n",
            "Requirement already satisfied: regex>=2021.8.3 in c:\\users\\administrator\\appdata\\local\\programs\\python\\python311\\lib\\site-packages (from nltk) (2023.6.3)\n",
            "Requirement already satisfied: tqdm in c:\\users\\administrator\\appdata\\local\\programs\\python\\python311\\lib\\site-packages (from nltk) (4.65.0)\n",
            "Requirement already satisfied: cmdstanpy>=1.0.4 in c:\\users\\administrator\\appdata\\local\\programs\\python\\python311\\lib\\site-packages (from prophet) (1.1.0)\n",
            "Requirement already satisfied: LunarCalendar>=0.0.9 in c:\\users\\administrator\\appdata\\local\\programs\\python\\python311\\lib\\site-packages (from prophet) (0.0.9)\n",
            "Requirement already satisfied: convertdate>=2.1.2 in c:\\users\\administrator\\appdata\\local\\programs\\python\\python311\\lib\\site-packages (from prophet) (2.4.0)\n",
            "Requirement already satisfied: holidays>=0.25 in c:\\users\\administrator\\appdata\\local\\programs\\python\\python311\\lib\\site-packages (from prophet) (0.29)\n",
            "Requirement already satisfied: importlib-resources in c:\\users\\administrator\\appdata\\local\\programs\\python\\python311\\lib\\site-packages (from prophet) (6.0.0)\n",
            "Requirement already satisfied: azure-core<2.0.0,>=1.23.0 in c:\\users\\administrator\\appdata\\local\\programs\\python\\python311\\lib\\site-packages (from azure-cosmos) (1.28.0)\n",
            "Requirement already satisfied: requests>=2.18.4 in c:\\users\\administrator\\appdata\\local\\programs\\python\\python311\\lib\\site-packages (from azure-core<2.0.0,>=1.23.0->azure-cosmos) (2.31.0)\n",
            "Requirement already satisfied: six>=1.11.0 in c:\\users\\administrator\\appdata\\local\\programs\\python\\python311\\lib\\site-packages (from azure-core<2.0.0,>=1.23.0->azure-cosmos) (1.16.0)\n",
            "Requirement already satisfied: typing-extensions>=4.3.0 in c:\\users\\administrator\\appdata\\local\\programs\\python\\python311\\lib\\site-packages (from azure-core<2.0.0,>=1.23.0->azure-cosmos) (4.7.1)\n",
            "Requirement already satisfied: pymeeus<=1,>=0.3.13 in c:\\users\\administrator\\appdata\\local\\programs\\python\\python311\\lib\\site-packages (from convertdate>=2.1.2->prophet) (0.5.12)\n",
            "Requirement already satisfied: ephem>=3.7.5.3 in c:\\users\\administrator\\appdata\\local\\programs\\python\\python311\\lib\\site-packages (from LunarCalendar>=0.0.9->prophet) (4.1.4)\n",
            "Requirement already satisfied: colorama in c:\\users\\administrator\\appdata\\roaming\\python\\python311\\site-packages (from tqdm->nltk) (0.4.6)\n",
            "Requirement already satisfied: charset-normalizer<4,>=2 in c:\\users\\administrator\\appdata\\local\\programs\\python\\python311\\lib\\site-packages (from requests>=2.18.4->azure-core<2.0.0,>=1.23.0->azure-cosmos) (3.2.0)\n",
            "Requirement already satisfied: idna<4,>=2.5 in c:\\users\\administrator\\appdata\\local\\programs\\python\\python311\\lib\\site-packages (from requests>=2.18.4->azure-core<2.0.0,>=1.23.0->azure-cosmos) (3.4)\n",
            "Requirement already satisfied: urllib3<3,>=1.21.1 in c:\\users\\administrator\\appdata\\local\\programs\\python\\python311\\lib\\site-packages (from requests>=2.18.4->azure-core<2.0.0,>=1.23.0->azure-cosmos) (2.0.4)\n",
            "Requirement already satisfied: certifi>=2017.4.17 in c:\\users\\administrator\\appdata\\local\\programs\\python\\python311\\lib\\site-packages (from requests>=2.18.4->azure-core<2.0.0,>=1.23.0->azure-cosmos) (2023.7.22)\n"
          ]
        },
        {
          "name": "stderr",
          "output_type": "stream",
          "text": [
            "\n",
            "[notice] A new release of pip is available: 23.1.2 -> 23.2.1\n",
            "[notice] To update, run: python.exe -m pip install --upgrade pip\n"
          ]
        }
      ],
      "source": [
        "!pip install pandas numpy matplotlib seaborn scikit-learn nltk prophet azure-cosmos"
      ]
    },
    {
      "cell_type": "code",
      "execution_count": 12,
      "metadata": {
        "id": "pAUy0LWQyxLf"
      },
      "outputs": [],
      "source": [
        "client = CosmosClient(url=\"https://msft-beta.documents.azure.com:443/\", credential=\"yBg7spV75tDnpqDmkuFIJmVMB4ky3VzlcT8UCQagZeqvsx90v8cMH6WviJQQ3A0Z8FRn3poIzrYkACDbGAK1Nw==\")"
      ]
    },
    {
      "cell_type": "code",
      "execution_count": 13,
      "metadata": {
        "id": "ppbwz021zEP1"
      },
      "outputs": [],
      "source": [
        "database = client.get_database_client(\"stock_trade_game\")\n",
        "\n",
        "container = database.get_container_client(\"STOCK\")\n",
        "\n",
        "stocks_history_raw = list(container.read_all_items())"
      ]
    },
    {
      "cell_type": "code",
      "execution_count": 14,
      "metadata": {
        "id": "Z-PJQizHzJlb"
      },
      "outputs": [],
      "source": [
        "json_string = json.dumps(stocks_history_raw[0])\n",
        "\n",
        "df_raw = pd.read_json(json_string)"
      ]
    },
    {
      "cell_type": "code",
      "execution_count": 15,
      "metadata": {
        "id": "FeCK1ejgzeNV"
      },
      "outputs": [],
      "source": [
        "stocks_companies = [\"IBM\", \"MSFT\", \"JPM\", \"TSLA\", \"META\"]\n",
        "\n",
        "df = {}\n",
        "for index, row in df_raw.iterrows():\n",
        "    for company_name in stocks_companies:\n",
        "        data = row[\"Stock_Data_{}\".format(company_name)]\n",
        "        if company_name not in df:\n",
        "          df[company_name] = {}\n",
        "        df[company_name][data[\"date\"]] = data[\"price\"]\n",
        "\n",
        "df = pd.DataFrame(df)\n",
        "df.index = pd.DatetimeIndex(df.index)"
      ]
    },
    {
      "cell_type": "code",
      "execution_count": null,
      "metadata": {
        "colab": {
          "base_uri": "https://localhost:8080/",
          "height": 423
        },
        "id": "xpep-b3aENN6",
        "outputId": "35df1f44-1db6-407e-8ee9-f2b03914e309"
      },
      "outputs": [],
      "source": []
    },
    {
      "cell_type": "code",
      "execution_count": 16,
      "metadata": {
        "id": "58iRMK0ZCybE"
      },
      "outputs": [],
      "source": [
        "df = df.reindex(pd.date_range('2015-08-26', '2023-08-04'), method='bfill').reset_index().rename(columns = { 'index': 'Date' })"
      ]
    },
    {
      "cell_type": "code",
      "execution_count": null,
      "metadata": {
        "colab": {
          "base_uri": "https://localhost:8080/",
          "height": 423
        },
        "id": "OfMkyWEezwo0",
        "outputId": "d3009a5e-b02b-495a-f13a-f058dc1c1b7b"
      },
      "outputs": [],
      "source": []
    },
    {
      "cell_type": "code",
      "execution_count": 17,
      "metadata": {
        "colab": {
          "base_uri": "https://localhost:8080/"
        },
        "id": "Z_c0dPxt64kt",
        "outputId": "5e508565-0d97-4082-8942-c7c599895110"
      },
      "outputs": [
        {
          "data": {
            "text/plain": [
              "DatetimeIndex([], dtype='datetime64[ns]', freq='D')"
            ]
          },
          "execution_count": 17,
          "metadata": {},
          "output_type": "execute_result"
        }
      ],
      "source": [
        "pd.date_range('2015-08-26', '2023-08-04').difference(df[\"Date\"])\n",
        " "
      ]
    },
    {
      "cell_type": "code",
      "execution_count": 18,
      "metadata": {
        "id": "hZWMv5cUz9g2"
      },
      "outputs": [
        {
          "name": "stderr",
          "output_type": "stream",
          "text": [
            "21:40:00 - cmdstanpy - INFO - Chain [1] start processing\n",
            "21:40:01 - cmdstanpy - INFO - Chain [1] done processing\n",
            "21:40:02 - cmdstanpy - INFO - Chain [1] start processing\n",
            "21:40:03 - cmdstanpy - INFO - Chain [1] done processing\n",
            "21:40:03 - cmdstanpy - INFO - Chain [1] start processing\n",
            "21:40:04 - cmdstanpy - INFO - Chain [1] done processing\n",
            "21:40:04 - cmdstanpy - INFO - Chain [1] start processing\n",
            "21:40:05 - cmdstanpy - INFO - Chain [1] done processing\n",
            "21:40:06 - cmdstanpy - INFO - Chain [1] start processing\n",
            "21:40:07 - cmdstanpy - INFO - Chain [1] done processing\n"
          ]
        }
      ],
      "source": [
        "\n",
        "# Assuming you have imported all the required libraries and loaded the data frame as 'df'\n",
        "\n",
        "for stock in [\"MSFT\", \"JPM\", \"META\", \"TSLA\", \"IBM\"]:\n",
        "    data = {\n",
        "        'ds': df[\"Date\"],\n",
        "        'y': pd.to_numeric(df[stock])\n",
        "    }\n",
        "\n",
        "    df_model_data = pd.DataFrame(data)\n",
        "\n",
        "    df_model_data['ds'] = pd.to_datetime(df_model_data['ds'])\n",
        "    model = Prophet()\n",
        "\n",
        "    # Split data into training and testing sets\n",
        "    train_data = df_model_data[:-400]  # Assuming the last 100 rows are for testing\n",
        "    test_data = df_model_data[-400:]\n",
        "\n",
        "    # Fit the model using training data\n",
        "    model.fit(train_data)\n",
        "\n",
        "    # Make predictions for the testing period\n",
        "    future = model.make_future_dataframe(periods=400)\n",
        "    forecast = model.predict(future)\n",
        "\n",
        "    # Extract only the testing period predictions\n",
        "    forecast_test = forecast[-400:]\n",
        "\n",
        "    # Calculate accuracy metrics and error percentage\n",
        "    actual_values = test_data['y'].values\n",
        "    predicted_values = forecast_test['yhat'].values\n",
        "\n",
        "    # Calculate Mean Absolute Percentage Error (MAPE)\n",
        "    mape = (abs((actual_values - predicted_values) / actual_values)).mean() * 100\n",
        "\n",
        "    # Calculate Root Mean Squared Error (RMSE)\n",
        "    rmse = ((actual_values - predicted_values) ** 2).mean() ** 0.5\n",
        "\n",
        "    # # Print the accuracy metrics and error percentage\n",
        "    # print(f\"Stock: {stock}\")\n",
        "    # print(f\"Mean Absolute Percentage Error (MAPE): {mape:.2f}%\")\n",
        "    # print(f\"Root Mean Squared Error (RMSE): {rmse:.2f}\")\n",
        "    # print(\"------------------------------------------\")\n",
        "\n",
        "    # # Plot the forecast\n",
        "    # fig1 = model.plot(forecast)\n",
        "    # fig1.axes[0].plot(test_data['ds'],test_data['y'],color='r')\n",
        "\n",
        "\n",
        "    # # ax.plot(forecast_test,color='r')\n",
        "    # plt.title(\"Stock Price Forecast for: \" + stock)\n",
        "    # plt.xlabel('Date')\n",
        "    # plt.ylabel('Price')\n",
        "    # plt.legend()\n",
        "    # plt.show()\n",
        "\n",
        "\n",
        "    # Python\n",
        "\n",
        "\n",
        "    # with open(f\"{stock}\"+\"_model.json\", 'w') as fout:\n",
        "    #     fout.write(model_to_json(model))  \n",
        "    # #Save model\n",
        "    # model_file = f\"{stock}_model.json\"\n",
        "    # with open(model_file, 'w') as f:\n",
        "    #     json.dump(model.serialize(), f)\n",
        "\n",
        "    # print(f\"Model for {stock} saved to {model_file}\")"
      ]
    }
  ],
  "metadata": {
    "accelerator": "TPU",
    "colab": {
      "provenance": []
    },
    "kernelspec": {
      "display_name": "Python 3",
      "name": "python3"
    },
    "language_info": {
      "codemirror_mode": {
        "name": "ipython",
        "version": 3
      },
      "file_extension": ".py",
      "mimetype": "text/x-python",
      "name": "python",
      "nbconvert_exporter": "python",
      "pygments_lexer": "ipython3",
      "version": "3.11.4"
    }
  },
  "nbformat": 4,
  "nbformat_minor": 0
}
